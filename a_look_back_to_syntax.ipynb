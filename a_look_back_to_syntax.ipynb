{
 "metadata": {
  "name": "",
  "signature": "sha256:3552f6bea0d5cbd30fb495afc6a52c21e6c2898f35f6d1fe2db4b36f37bb0bba"
 },
 "nbformat": 3,
 "nbformat_minor": 0,
 "worksheets": [
  {
   "cells": [
    {
     "cell_type": "markdown",
     "metadata": {},
     "source": [
      "##Ipython notebook course on python basics\n",
      "####Can get what the following code is doing?\n",
      "```python\n",
      "if 2 + 2 == 5:\n",
      "    print(\"Sorry?\")\n",
      "else:\n",
      "    print(\"Bonjour!\")\n",
      "print('The End')\n",
      "```\n"
     ]
    },
    {
     "cell_type": "code",
     "collapsed": false,
     "input": [
      "#use this cell to run the example and experiment by yourself"
     ],
     "language": "python",
     "metadata": {},
     "outputs": [],
     "prompt_number": 1
    },
    {
     "cell_type": "markdown",
     "metadata": {},
     "source": [
      "####conditional structure\n",
      "1. only one condition: \"if\" structure\n",
      "```\n",
      "if *logical expression*:\n",
      "....here is the block of instruction that will be executed\n",
      "....only if the logical condition turns out to be true,\n",
      "....otherwise it is siply skipped and the rest of the code is executed\n",
      "```\n",
      " syntaxic stuff to remember:\n",
      " - the identity is tested with **==** and not **=**\n",
      " - put a **:** at the end of the conditional statement\n",
      " - the bloc of instruction is identified by the intentation (shown here with **.** for **space**)\n",
      " - you don't have to skip a line after the conditional structure\n",
      "<br>\n",
      "<br>\n",
      "2. something has to be done is the condition is not fullfiled: \"if else\" structure\n",
      "```\n",
      "if *logical expression*:\n",
      "....here is the block of instruction that will be executed\n",
      "....only if the logical condition turns out to be true\n",
      "else:\n",
      "....here is the block of instruction that will be executed\n",
      "....if the alternative statement is true.\n",
      "```\n",
      "syntaxic stuff to remember:\n",
      " - put a **:** after **else**\n",
      " - beware of the indentation\n",
      "<br>\n",
      "<br>\n",
      "3. well, there should be some alternatives: \"if elif\" structure\n",
      "```\n",
      "if *logical expression*:\n",
      "....here is the block of instruction that will be executed\n",
      "....only if the logical condition turns out to be true\n",
      "elif *another logical expression*:\n",
      "....here is the block of instruction that will be executed\n",
      "....if the alternative statement is true.\n",
      "```\n",
      "syntaxic stuff to remember:\n",
      " - put a **:** at the end of the alternative conditional statement\n",
      " - as usual, beware of the indentation\n",
      "<br>\n",
      "<br>\n",
      "4. of course you can combine those: \"if elif elif else\" structure\n",
      "\n",
      "Try to experiment with such structures"
     ]
    },
    {
     "cell_type": "code",
     "collapsed": false,
     "input": [
      "# for example using the modulo operator **%** to get several alternatives\n",
      "n=9\n",
      "if n%3==0:\n",
      "    print(\"aucun reste de la division par 3\")\n",
      "elif n%3==1:\n",
      "    print(\"le reste de la division par 3 vaut 1\")\n",
      "else:\n",
      "    print(\"le reste de la division par 3 vaut 2\")\n",
      "print(\"Et voil\u00e0 !\")"
     ],
     "language": "python",
     "metadata": {},
     "outputs": [
      {
       "output_type": "stream",
       "stream": "stdout",
       "text": [
        "aucun reste de la division par 3\n",
        "Et voil\u00e0 !\n"
       ]
      }
     ],
     "prompt_number": 18
    },
    {
     "cell_type": "code",
     "collapsed": false,
     "input": [
      "# use this cell to experiment with conditional structure"
     ],
     "language": "python",
     "metadata": {},
     "outputs": [],
     "prompt_number": 1
    },
    {
     "cell_type": "markdown",
     "metadata": {},
     "source": [
      "####Can get what the following code is doing?\n",
      "```python\n",
      "state = 1\n",
      "for i in range(20):\n",
      "    if state == 1: \n",
      "        print('A')\n",
      "    if state == 2:\n",
      "        print('B')\n",
      "    if state == 3:\n",
      "        print('C')\n",
      "    state = state + 1\n",
      "    if state == 4:\n",
      "        state = 1\n",
      "```"
     ]
    },
    {
     "cell_type": "code",
     "collapsed": false,
     "input": [
      "# you can experiment here"
     ],
     "language": "python",
     "metadata": {},
     "outputs": []
    },
    {
     "cell_type": "markdown",
     "metadata": {},
     "source": [
      "####Can get what the following code is doing?\n",
      "```python\n",
      "n = 100\n",
      "while n > 0:\n",
      "    if n%7 == 0:\n",
      "        print(n)\n",
      "    n = n - 1\n",
      "```"
     ]
    },
    {
     "cell_type": "code",
     "collapsed": false,
     "input": [
      "# use this cell to try by your own"
     ],
     "language": "python",
     "metadata": {},
     "outputs": [],
     "prompt_number": 19
    },
    {
     "cell_type": "markdown",
     "metadata": {},
     "source": [
      "####iteration structure\n",
      "1. iteration on a list of values: \"for\" loop\n",
      "```\n",
      "for variable in list:\n",
      "....here is the block of instruction that will be executed,\n",
      "....each time with the variable taking a the new value in the list,\n",
      "....the rest of the code is executed only when no more values in the\n",
      "....list are available\n",
      "```\n",
      " syntaxic stuff to remember:\n",
      " - there are several ways to build a list of values\n",
      " - put a **:** at the end of the **for** statement\n",
      " - the bloc of instruction is identified by the intentation (shown here with **.** for **space**)\n",
      " - you **have** to skip a line after the conditional structure\n",
      "<br>\n",
      "<br>\n",
      "2. iteration with a condition: \"while\" loop\n",
      "```\n",
      "while *logical expression*:\n",
      "....here is the block of instruction that will be executed\n",
      "....again and again until the logical expression turns out\n",
      "....to be false\n",
      "```\n",
      "syntaxic stuff to remember:\n",
      " - put a **:** after the **while** statement\n",
      " - beware of the indentation\n",
      " - beware of infinite loops!\n",
      "   - use a counter, that you have to define before and to increment wihtin the while loop\n",
      "   - use something to interrupt the while loop, cf first course pygame code"
     ]
    },
    {
     "cell_type": "code",
     "collapsed": false,
     "input": [
      "for i in [1,2,3]:\n",
      "    print i\n",
      "    "
     ],
     "language": "python",
     "metadata": {},
     "outputs": [
      {
       "output_type": "stream",
       "stream": "stdout",
       "text": [
        "1\n",
        "2\n",
        "3\n"
       ]
      }
     ],
     "prompt_number": 16
    },
    {
     "cell_type": "code",
     "collapsed": false,
     "input": [
      "for i in ['un','deux','trois']:\n",
      "    print i"
     ],
     "language": "python",
     "metadata": {},
     "outputs": [
      {
       "output_type": "stream",
       "stream": "stdout",
       "text": [
        "un\n",
        "deux\n",
        "trois\n"
       ]
      }
     ],
     "prompt_number": 17
    },
    {
     "cell_type": "code",
     "collapsed": false,
     "input": [],
     "language": "python",
     "metadata": {},
     "outputs": []
    }
   ],
   "metadata": {}
  }
 ]
}
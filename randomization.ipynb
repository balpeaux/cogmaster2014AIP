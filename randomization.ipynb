{
 "metadata": {
  "name": "",
  "signature": "sha256:3c52e2d4ac7e68621f69026f866e8fd5526b7d0260b03b4e2d473b132de1b0a5"
 },
 "nbformat": 3,
 "nbformat_minor": 0,
 "worksheets": [
  {
   "cells": [
    {
     "cell_type": "markdown",
     "metadata": {},
     "source": [
      "##Randomization\n",
      "first you need to import the module with all the stuff related to randomization: **random**\n",
      "\n",
      "Look at the documentation to understand the default behavior of the random module regarding the seed.<br> https://docs.python.org/2/library/random.html\n",
      "\n",
      "It is really important to get that information in order to chose the best way to generate random numbers depending on your needs, for example:\n",
      "- different seeds for each subject to be sure that any observed effect would not be related to a specific series of trials\n",
      "- the same seed if you would like to compare models on the same set of random data."
     ]
    },
    {
     "cell_type": "code",
     "collapsed": false,
     "input": [
      "import random"
     ],
     "language": "python",
     "metadata": {},
     "outputs": [],
     "prompt_number": 32
    },
    {
     "cell_type": "markdown",
     "metadata": {},
     "source": [
      "##Now, let's recap the different methods that we already saw:\n",
      "###random.random()"
     ]
    },
    {
     "cell_type": "code",
     "collapsed": false,
     "input": [
      "random.random()"
     ],
     "language": "python",
     "metadata": {},
     "outputs": [
      {
       "metadata": {},
       "output_type": "pyout",
       "prompt_number": 49,
       "text": [
        "0.851578970987048"
       ]
      }
     ],
     "prompt_number": 49
    },
    {
     "cell_type": "markdown",
     "metadata": {},
     "source": [
      "###random.randint()"
     ]
    },
    {
     "cell_type": "code",
     "collapsed": false,
     "input": [
      "for a in range(10):\n",
      "    print random.randint(2,4)"
     ],
     "language": "python",
     "metadata": {},
     "outputs": [
      {
       "output_type": "stream",
       "stream": "stdout",
       "text": [
        "3\n",
        "2\n",
        "4\n",
        "2\n",
        "4\n",
        "2\n",
        "4\n",
        "4\n",
        "2\n",
        "2\n"
       ]
      }
     ],
     "prompt_number": 38
    },
    {
     "cell_type": "markdown",
     "metadata": {},
     "source": [
      "Let's take some time to make sure we understand well how **range** works:"
     ]
    },
    {
     "cell_type": "code",
     "collapsed": false,
     "input": [
      "print range(10) # 10 natural numbers starting from zero\n",
      "print range(3,10) # all natural numbers between zero (included) and 10 (excluded)\n",
      "print range(1,11,3) # natural numbers between 1 and 11 (still excluded) by steps of 3"
     ],
     "language": "python",
     "metadata": {},
     "outputs": [
      {
       "output_type": "stream",
       "stream": "stdout",
       "text": [
        "[0, 1, 2, 3, 4, 5, 6, 7, 8, 9]\n",
        "[3, 4, 5, 6, 7, 8, 9]\n",
        "[1, 4, 7, 10]\n"
       ]
      }
     ],
     "prompt_number": 40
    },
    {
     "cell_type": "markdown",
     "metadata": {},
     "source": [
      "Here it is very important to remember that indexing starts at **0** in python!"
     ]
    },
    {
     "cell_type": "markdown",
     "metadata": {},
     "source": [
      "###random.choice()\n",
      "Now, let's see how to pick a number from a given set 10 times (similar to pick tokens from an urn while putting back the selected token after each draw):\n",
      "1. build a set of things, for example a list\n",
      "2. get your item using the function **random.choice**\n",
      "3. build a loop around that instruction to do it 10 times"
     ]
    },
    {
     "cell_type": "code",
     "collapsed": false,
     "input": [
      "my_list=[1,3,6,9,12]\n",
      "for a in range(10):\n",
      "    print random.choice(my_list)\n",
      "    "
     ],
     "language": "python",
     "metadata": {},
     "outputs": [
      {
       "output_type": "stream",
       "stream": "stdout",
       "text": [
        "6\n",
        "12\n",
        "12\n",
        "3\n",
        "1\n",
        "12\n",
        "6\n",
        "9\n",
        "12\n",
        "6\n"
       ]
      }
     ],
     "prompt_number": 13
    },
    {
     "cell_type": "markdown",
     "metadata": {},
     "source": [
      "##Now we are going to deal with permutations:\n",
      "###random.shuffle()"
     ]
    },
    {
     "cell_type": "code",
     "collapsed": false,
     "input": [
      "print my_list\n",
      "random.shuffle(my_list)\n",
      "print my_list"
     ],
     "language": "python",
     "metadata": {},
     "outputs": [
      {
       "output_type": "stream",
       "stream": "stdout",
       "text": [
        "[1, 3, 6, 9, 12]\n",
        "[9, 3, 1, 12, 6]\n"
       ]
      }
     ],
     "prompt_number": 14
    },
    {
     "cell_type": "markdown",
     "metadata": {},
     "source": [
      "Beware : the value stored in the varable my_list has changed!"
     ]
    },
    {
     "cell_type": "markdown",
     "metadata": {},
     "source": [
      "###How to ensure equiprobability between conditions?\n",
      "\n",
      "The problem:<br>\n",
      "You were using a code similar to\n",
      "```python\n",
      "while True:\n",
      "    if random.randint(0,1):\n",
      "        show_BLUE_written_in-blue\n",
      "    else:\n",
      "        show_BLUE_written_in_red    \n",
      "    do_something_to_escape_from_the_infinite_while_loop\n",
      "```\n",
      "\n",
      "If you already fixed the total number of trials, here is a solution :\n",
      "1. to build a list of conditions with the required features (i.e. equiprobability and appropriate randomization)\n",
      "2. to read its elements one by one"
     ]
    },
    {
     "cell_type": "code",
     "collapsed": false,
     "input": [
      "congruent=[1,1,1,1,1]\n",
      "print congruent\n",
      "incongruent=[0,0,0,0,0]\n",
      "print incongruent\n",
      "my_list=congruent+incongruent\n",
      "print my_list"
     ],
     "language": "python",
     "metadata": {},
     "outputs": [
      {
       "output_type": "stream",
       "stream": "stdout",
       "text": [
        "[1, 1, 1, 1, 1]\n",
        "[0, 0, 0, 0, 0]\n",
        "[1, 1, 1, 1, 1, 0, 0, 0, 0, 0]\n"
       ]
      }
     ],
     "prompt_number": 56
    },
    {
     "cell_type": "code",
     "collapsed": false,
     "input": [
      "random.shuffle(my_list)\n",
      "print my_list"
     ],
     "language": "python",
     "metadata": {},
     "outputs": [
      {
       "output_type": "stream",
       "stream": "stdout",
       "text": [
        "[1, 0, 1, 0, 0, 1, 0, 0, 1, 1]\n"
       ]
      }
     ],
     "prompt_number": 58
    },
    {
     "cell_type": "markdown",
     "metadata": {},
     "source": [
      "Now we can use this list to select our trials instead of using **random.randint(0,1)** each trial, which doesn't ensure equiprobability of conditions over the experiment."
     ]
    },
    {
     "cell_type": "code",
     "collapsed": false,
     "input": [
      "for i in my_list:\n",
      "    print i\n",
      "    if i==1:\n",
      "        print \"red\"\n",
      "    else:\n",
      "        print \"blue\"\n",
      "        "
     ],
     "language": "python",
     "metadata": {},
     "outputs": [
      {
       "output_type": "stream",
       "stream": "stdout",
       "text": [
        "1\n",
        "red\n",
        "0\n",
        "blue\n",
        "1\n",
        "red\n",
        "0\n",
        "blue\n",
        "0\n",
        "blue\n",
        "1\n",
        "red\n",
        "0\n",
        "blue\n",
        "0\n",
        "blue\n",
        "1\n",
        "red\n",
        "1\n",
        "red\n"
       ]
      }
     ],
     "prompt_number": 59
    },
    {
     "cell_type": "markdown",
     "metadata": {},
     "source": [
      "Here we can use a little trick: **i** is either equal to **0** or **1** and the truth value of **1** is **True** while the truth value of **0** is false. Thus no need to evaluate the truth value of **i==1**, we can directly evaluate the truth value of **i**."
     ]
    },
    {
     "cell_type": "code",
     "collapsed": false,
     "input": [
      "for i in my_list:\n",
      "    print i\n",
      "    if i:\n",
      "        print \"red\"\n",
      "    else:\n",
      "        print \"blue\""
     ],
     "language": "python",
     "metadata": {},
     "outputs": [
      {
       "output_type": "stream",
       "stream": "stdout",
       "text": [
        "1\n",
        "red\n",
        "0\n",
        "blue\n",
        "1\n",
        "red\n",
        "0\n",
        "blue\n",
        "0\n",
        "blue\n",
        "1\n",
        "red\n",
        "0\n",
        "blue\n",
        "0\n",
        "blue\n",
        "1\n",
        "red\n",
        "1\n",
        "red\n"
       ]
      }
     ],
     "prompt_number": 63
    },
    {
     "cell_type": "markdown",
     "metadata": {},
     "source": [
      "###A reminder about the conditional structures :\n",
      "The purpose of a conditional structure is to evaluate the truth value of a logical expression and accordingly, to execute (or not) a block of instruction."
     ]
    },
    {
     "cell_type": "code",
     "collapsed": false,
     "input": [
      "if (True and False) or (False or not True):\n",
      "    print \"vrai\"\n",
      "else:\n",
      "    print \"faux\"\n",
      "    "
     ],
     "language": "python",
     "metadata": {},
     "outputs": [
      {
       "output_type": "stream",
       "stream": "stdout",
       "text": [
        "faux\n"
       ]
      }
     ],
     "prompt_number": 62
    },
    {
     "cell_type": "code",
     "collapsed": false,
     "input": [
      "if (1==1 and 5<2) or ('A'=='B' or not (3 in [1,2,3])):\n",
      "    print \"vrai\"\n",
      "else:\n",
      "    print \"faux\"\n",
      "    "
     ],
     "language": "python",
     "metadata": {},
     "outputs": [
      {
       "output_type": "stream",
       "stream": "stdout",
       "text": [
        "faux\n"
       ]
      }
     ],
     "prompt_number": 43
    },
    {
     "cell_type": "code",
     "collapsed": false,
     "input": [
      "print 'a' in 'blablabla'\n",
      "print 'i' in 'blablabla'"
     ],
     "language": "python",
     "metadata": {},
     "outputs": [
      {
       "output_type": "stream",
       "stream": "stdout",
       "text": [
        "True\n",
        "False\n"
       ]
      }
     ],
     "prompt_number": 60
    },
    {
     "cell_type": "markdown",
     "metadata": {},
     "source": [
      "###Question: what if we need a third condition?"
     ]
    },
    {
     "cell_type": "code",
     "collapsed": false,
     "input": [
      "cond1=[0,0,0,0,0]\n",
      "cond2=[1,1,1,1,1]\n",
      "cond3=[2,2,2,2,2]\n",
      "conds=cond1+cond2+cond3\n",
      "print conds\n",
      "len(conds)"
     ],
     "language": "python",
     "metadata": {},
     "outputs": [
      {
       "output_type": "stream",
       "stream": "stdout",
       "text": [
        "[0, 0, 0, 0, 0, 1, 1, 1, 1, 1, 2, 2, 2, 2, 2]\n"
       ]
      },
      {
       "metadata": {},
       "output_type": "pyout",
       "prompt_number": 2,
       "text": [
        "15"
       ]
      }
     ],
     "prompt_number": 2
    },
    {
     "cell_type": "code",
     "collapsed": false,
     "input": [
      "my_list=conds\n",
      "random.shuffle(my_list)"
     ],
     "language": "python",
     "metadata": {},
     "outputs": [],
     "prompt_number": 8
    },
    {
     "cell_type": "code",
     "collapsed": false,
     "input": [
      "print my_list"
     ],
     "language": "python",
     "metadata": {},
     "outputs": [
      {
       "output_type": "stream",
       "stream": "stdout",
       "text": [
        "[1, 2, 0, 0, 0, 2, 2, 1, 1, 1, 0, 1, 2, 0, 2]\n"
       ]
      }
     ],
     "prompt_number": 9
    },
    {
     "cell_type": "code",
     "collapsed": false,
     "input": [
      "for i in my_list:\n",
      "    if i==0:\n",
      "        print \"i={} => red\".format(i)\n",
      "    elif i==1:\n",
      "        print \"i={} => green\".format(i)\n",
      "    elif i==2:\n",
      "        print \"i={} => blue\".format(i)\n",
      "        "
     ],
     "language": "python",
     "metadata": {},
     "outputs": [
      {
       "output_type": "stream",
       "stream": "stdout",
       "text": [
        "i=1 => green\n",
        "i=2 => blue\n",
        "i=0 => red\n",
        "i=0 => red\n",
        "i=0 => red\n",
        "i=2 => blue\n",
        "i=2 => blue\n",
        "i=1 => green\n",
        "i=1 => green\n",
        "i=1 => green\n",
        "i=0 => red\n",
        "i=1 => green\n",
        "i=2 => blue\n",
        "i=0 => red\n",
        "i=2 => blue\n"
       ]
      }
     ],
     "prompt_number": 10
    },
    {
     "cell_type": "markdown",
     "metadata": {},
     "source": [
      "Actually you don't need to use a list with numbers, it was a shortcut to the logical values that those two numbers can represent.\n",
      "With only two values needed, you could actually use a list of booleans if you need only two outcomes:"
     ]
    },
    {
     "cell_type": "code",
     "collapsed": false,
     "input": [
      "v=[True,True,True,True,True]\n",
      "f=[False,False,False,False,False]\n",
      "boolist=v+f\n",
      "print \"List:\",boolist\n",
      "random.shuffle(boolist)\n",
      "for vdv in boolist:\n",
      "    if vdv:\n",
      "        print \"blue\"\n",
      "    else:\n",
      "        print \"red\"\n",
      "        "
     ],
     "language": "python",
     "metadata": {},
     "outputs": [
      {
       "output_type": "stream",
       "stream": "stdout",
       "text": [
        "List: [True, True, True, True, True, False, False, False, False, False]\n",
        "red\n",
        "red\n",
        "blue\n",
        "blue\n",
        "red\n",
        "blue\n",
        "blue\n",
        "red\n",
        "blue\n",
        "red\n"
       ]
      }
     ],
     "prompt_number": 17
    },
    {
     "cell_type": "markdown",
     "metadata": {},
     "source": [
      "With more values you can directly use whatever you are trying to randomize:"
     ]
    },
    {
     "cell_type": "code",
     "collapsed": false,
     "input": [
      "cond1=['red','red','red','red','red']\n",
      "cond2=['blue','blue','blue','blue','blue']\n",
      "cond3=['green','green','green','green','green']\n",
      "conds=cond1+cond2+cond3\n",
      "random.shuffle(conds)\n",
      "print \"List : \",conds\n",
      "print \"\\nAnd now a loop over the values in that shuffled list :\\n\"\n",
      "for i in range(len(conds)):\n",
      "    print conds[i]"
     ],
     "language": "python",
     "metadata": {},
     "outputs": [
      {
       "output_type": "stream",
       "stream": "stdout",
       "text": [
        "List :  ['red', 'green', 'blue', 'red', 'blue', 'red', 'green', 'red', 'green', 'blue', 'green', 'red', 'blue', 'blue', 'green']\n",
        "\n",
        "And now a loop over the values in that shuffled list :\n",
        "\n",
        "red\n",
        "green\n",
        "blue\n",
        "red\n",
        "blue\n",
        "red\n",
        "green\n",
        "red\n",
        "green\n",
        "blue\n",
        "green\n",
        "red\n",
        "blue\n",
        "blue\n",
        "green\n"
       ]
      }
     ],
     "prompt_number": 15
    },
    {
     "cell_type": "code",
     "collapsed": false,
     "input": [
      "a=[0 for x in range(10)]\n",
      "print a"
     ],
     "language": "python",
     "metadata": {},
     "outputs": [
      {
       "output_type": "stream",
       "stream": "stdout",
       "text": [
        "[0, 0, 0, 0, 0, 0, 0, 0, 0, 0]\n"
       ]
      }
     ],
     "prompt_number": 23
    },
    {
     "cell_type": "code",
     "collapsed": false,
     "input": [
      "a=['red' for x in range(10)]\n",
      "print a"
     ],
     "language": "python",
     "metadata": {},
     "outputs": [
      {
       "output_type": "stream",
       "stream": "stdout",
       "text": [
        "['red', 'red', 'red', 'red', 'red', 'red', 'red', 'red', 'red', 'red']\n"
       ]
      }
     ],
     "prompt_number": 24
    },
    {
     "cell_type": "code",
     "collapsed": false,
     "input": [
      "a=[(255,0,0) for i in range(10)]\n",
      "print a\n",
      "print a[0]"
     ],
     "language": "python",
     "metadata": {},
     "outputs": [
      {
       "output_type": "stream",
       "stream": "stdout",
       "text": [
        "[(255, 0, 0), (255, 0, 0), (255, 0, 0), (255, 0, 0), (255, 0, 0), (255, 0, 0), (255, 0, 0), (255, 0, 0), (255, 0, 0), (255, 0, 0)]\n",
        "(255, 0, 0)\n"
       ]
      }
     ],
     "prompt_number": 27
    },
    {
     "cell_type": "code",
     "collapsed": false,
     "input": [
      "repetition_number=5\n",
      "cond1=[(255,0,0) for x in range(repetition_number)] #red\n",
      "cond2=[(0,255,0) for x in range(repetition_number)] #green\n",
      "cond3=[(0,0,255) for x in range(repetition_number)] #blue\n",
      "conds=cond1+cond2+cond3\n",
      "random.shuffle(conds)\n",
      "print \"List : \",conds\n",
      "print \"\\nAnd now a loop over the values in that shuffled list :\\n\"\n",
      "for i in range(len(conds)):\n",
      "    print conds[i]"
     ],
     "language": "python",
     "metadata": {},
     "outputs": [
      {
       "output_type": "stream",
       "stream": "stdout",
       "text": [
        "List :  [(0, 255, 0), (0, 0, 255), (0, 0, 255), (0, 0, 255), (255, 0, 0), (255, 0, 0), (0, 255, 0), (255, 0, 0), (255, 0, 0), (0, 0, 255), (0, 255, 0), (0, 255, 0), (0, 255, 0), (255, 0, 0), (0, 0, 255)]\n",
        "\n",
        "And now a loop over the values in that shuffled list :\n",
        "\n",
        "(0, 255, 0)\n",
        "(0, 0, 255)\n",
        "(0, 0, 255)\n",
        "(0, 0, 255)\n",
        "(255, 0, 0)\n",
        "(255, 0, 0)\n",
        "(0, 255, 0)\n",
        "(255, 0, 0)\n",
        "(255, 0, 0)\n",
        "(0, 0, 255)\n",
        "(0, 255, 0)\n",
        "(0, 255, 0)\n",
        "(0, 255, 0)\n",
        "(255, 0, 0)\n",
        "(0, 0, 255)\n"
       ]
      }
     ],
     "prompt_number": 52
    },
    {
     "cell_type": "code",
     "collapsed": false,
     "input": [],
     "language": "python",
     "metadata": {},
     "outputs": []
    }
   ],
   "metadata": {}
  }
 ]
}
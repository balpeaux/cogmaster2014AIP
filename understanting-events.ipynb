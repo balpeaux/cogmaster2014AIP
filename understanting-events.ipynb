{
 "metadata": {
  "name": "",
  "signature": "sha256:df8be24624e9a1a89f5cee774484b28ca7aeac7b17dff92170233b2ed3f7dab2"
 },
 "nbformat": 3,
 "nbformat_minor": 0,
 "worksheets": [
  {
   "cells": [
    {
     "cell_type": "markdown",
     "metadata": {},
     "source": [
      "##AIP Friday September 12\n",
      "To do list:\n",
      "- events : get information from keyboard and mouse\n",
      "- pygame and time\n",
      "- open, write and save a data file\n",
      "- (if we have time) images"
     ]
    },
    {
     "cell_type": "markdown",
     "metadata": {},
     "source": [
      "###Events\n",
      "Here is a little script to help you grasp the way events are coded.\n",
      "\n",
      "Run the script either from the ipython notebook (mac) or the purely python script (windows or problem)\n",
      "\n",
      "Any remarks?"
     ]
    },
    {
     "cell_type": "code",
     "collapsed": false,
     "input": [
      "import os\n",
      "wpos_x = 100\n",
      "wpos_y = 100\n",
      "os.environ['SDL_VIDEO_WINDOW_POS'] = \"%d,%d\" % (wpos_x,wpos_y)\n",
      "\n",
      "import pygame\n",
      "from pygame.locals import *\n",
      "\n",
      "import random\n",
      "\n",
      "bg_color = (0,0,0)\n",
      "stim_color = (255,255,255)\n",
      "w_width = 640\n",
      "w_height = 480\n",
      "\n",
      "# prepare position of vertices for the polygon stimulus, here a triangle\n",
      "stim_vertices=[(w_width/2,w_height/2-100),(w_width/2-50,w_height/2+50),(w_width/2+50,w_height/2+50)]\n",
      "\n",
      "try:\n",
      "    pygame.init()\n",
      "    w = pygame.display.set_mode((w_width,w_height))\n",
      "\n",
      "    w.fill(bg_color)\n",
      "    pygame.display.flip()\n",
      "    pygame.time.wait(1000+random.randint(0,1000))\n",
      "    \n",
      "    pygame.draw.polygon(w,stim_color,stim_vertices)\n",
      "    \n",
      "    pygame.display.flip()\n",
      "    t0 = pygame.time.get_ticks()\n",
      "\n",
      "    while pygame.time.get_ticks()-t0 < 10000:\n",
      "        for e in pygame.event.get():\n",
      "            print e\n",
      "            if e.type == KEYDOWN and e.key == K_SPACE:\n",
      "                t = pygame.time.get_ticks() - t0\n",
      "                print t\n",
      "                w.fill(bg_color)\n",
      "                pygame.display.flip()\n",
      "        \n",
      "    w.fill(bg_color)\n",
      "    pygame.display.flip()   \n",
      "    pygame.time.wait(1000)\n",
      "\n",
      "finally:                    \n",
      "    pygame.quit()"
     ],
     "language": "python",
     "metadata": {},
     "outputs": [
      {
       "output_type": "stream",
       "stream": "stdout",
       "text": [
        "<Event(4-MouseMotion {'buttons': (0, 0, 0), 'pos': (639, 479), 'rel': (640, 480)})>\n",
        "<Event(1-ActiveEvent {'state': 1, 'gain': 0})>\n",
        "<Event(2-KeyDown {'scancode': 53, 'key': 27, 'unicode': u'\\x1b', 'mod': 0})>"
       ]
      },
      {
       "output_type": "stream",
       "stream": "stdout",
       "text": [
        "\n",
        "<Event(3-KeyUp {'scancode': 53, 'key': 27, 'mod': 0})>"
       ]
      },
      {
       "output_type": "stream",
       "stream": "stdout",
       "text": [
        "\n",
        "<Event(2-KeyDown {'scancode': 49, 'key': 32, 'unicode': u' ', 'mod': 0})>"
       ]
      },
      {
       "output_type": "stream",
       "stream": "stdout",
       "text": [
        "\n",
        "4803\n",
        "<Event(3-KeyUp {'scancode': 49, 'key': 32, 'mod': 0})>"
       ]
      },
      {
       "output_type": "stream",
       "stream": "stdout",
       "text": [
        "\n",
        "<Event(1-ActiveEvent {'state': 3, 'gain': 0})>"
       ]
      },
      {
       "output_type": "stream",
       "stream": "stdout",
       "text": [
        "\n"
       ]
      }
     ],
     "prompt_number": 14
    },
    {
     "cell_type": "code",
     "collapsed": false,
     "input": [
      "pygame.key.name(27)"
     ],
     "language": "python",
     "metadata": {},
     "outputs": [
      {
       "metadata": {},
       "output_type": "pyout",
       "prompt_number": 20,
       "text": [
        "'escape'"
       ]
      }
     ],
     "prompt_number": 20
    }
   ],
   "metadata": {}
  }
 ]
}